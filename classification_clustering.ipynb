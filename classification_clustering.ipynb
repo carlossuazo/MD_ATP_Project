{
 "cells": [
  {
   "cell_type": "markdown",
   "id": "a3b30e6a-6dc5-4393-978e-115b3bf973f5",
   "metadata": {},
   "source": [
    "# **Clasificación y Clustering**"
   ]
  },
  {
   "cell_type": "markdown",
   "id": "9a540117-be52-4b7a-8681-41996066af67",
   "metadata": {},
   "source": [
    "# 1. Importamos e instalamos librerias\n",
    "\n",
    "> También declararemos algunas variables globales para su uso en todo el notebook."
   ]
  },
  {
   "cell_type": "code",
   "execution_count": null,
   "id": "c9fb70c3-b89b-40df-8fe1-d505dfbf8536",
   "metadata": {},
   "outputs": [],
   "source": []
  }
 ],
 "metadata": {
  "kernelspec": {
   "display_name": "Python 3 (ipykernel)",
   "language": "python",
   "name": "python3"
  },
  "language_info": {
   "codemirror_mode": {
    "name": "ipython",
    "version": 3
   },
   "file_extension": ".py",
   "mimetype": "text/x-python",
   "name": "python",
   "nbconvert_exporter": "python",
   "pygments_lexer": "ipython3",
   "version": "3.8.8"
  }
 },
 "nbformat": 4,
 "nbformat_minor": 5
}
